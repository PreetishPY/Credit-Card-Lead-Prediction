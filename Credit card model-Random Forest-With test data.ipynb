{
 "cells": [
  {
   "cell_type": "markdown",
   "id": "9946b110",
   "metadata": {},
   "source": [
    "# Loading the modules and csv"
   ]
  },
  {
   "cell_type": "code",
   "execution_count": 1,
   "id": "04bf0559",
   "metadata": {},
   "outputs": [],
   "source": [
    "import pandas as pd"
   ]
  },
  {
   "cell_type": "code",
   "execution_count": 2,
   "id": "97eed5a1",
   "metadata": {},
   "outputs": [],
   "source": [
    "import numpy as np\n",
    "import matplotlib.pyplot as plt"
   ]
  },
  {
   "cell_type": "code",
   "execution_count": 3,
   "id": "a277eaac",
   "metadata": {},
   "outputs": [],
   "source": [
    "import seaborn as sns # for visualization"
   ]
  },
  {
   "cell_type": "code",
   "execution_count": 4,
   "id": "e76a9463",
   "metadata": {},
   "outputs": [],
   "source": [
    "from pylab import savefig"
   ]
  },
  {
   "cell_type": "code",
   "execution_count": 5,
   "id": "699dc135",
   "metadata": {},
   "outputs": [],
   "source": [
    "file_path = 'C://Users//Sanyal//Desktop/train.csv'"
   ]
  },
  {
   "cell_type": "code",
   "execution_count": 6,
   "id": "c50dc21e",
   "metadata": {},
   "outputs": [],
   "source": [
    "df = pd.read_csv(file_path)"
   ]
  },
  {
   "cell_type": "code",
   "execution_count": 7,
   "id": "a32de40f",
   "metadata": {},
   "outputs": [],
   "source": [
    "## sample = df"
   ]
  },
  {
   "cell_type": "code",
   "execution_count": 7,
   "id": "12d49ab1",
   "metadata": {},
   "outputs": [
    {
     "name": "stdout",
     "output_type": "stream",
     "text": [
      "<class 'pandas.core.frame.DataFrame'>\n",
      "RangeIndex: 245725 entries, 0 to 245724\n",
      "Data columns (total 11 columns):\n",
      " #   Column               Non-Null Count   Dtype \n",
      "---  ------               --------------   ----- \n",
      " 0   ID                   245725 non-null  object\n",
      " 1   Gender               245725 non-null  object\n",
      " 2   Age                  245725 non-null  int64 \n",
      " 3   Region_Code          245725 non-null  object\n",
      " 4   Occupation           245725 non-null  object\n",
      " 5   Channel_Code         245725 non-null  object\n",
      " 6   Vintage              245725 non-null  int64 \n",
      " 7   Credit_Product       216400 non-null  object\n",
      " 8   Avg_Account_Balance  245725 non-null  int64 \n",
      " 9   Is_Active            245725 non-null  object\n",
      " 10  Is_Lead              245725 non-null  int64 \n",
      "dtypes: int64(4), object(7)\n",
      "memory usage: 20.6+ MB\n"
     ]
    }
   ],
   "source": [
    "df.info()"
   ]
  },
  {
   "cell_type": "code",
   "execution_count": 8,
   "id": "9f542b79",
   "metadata": {},
   "outputs": [
    {
     "data": {
      "text/plain": [
       "ID                      0.000000\n",
       "Gender                  0.000000\n",
       "Age                     0.000000\n",
       "Region_Code             0.000000\n",
       "Occupation              0.000000\n",
       "Channel_Code            0.000000\n",
       "Vintage                 0.000000\n",
       "Credit_Product         11.934073\n",
       "Avg_Account_Balance     0.000000\n",
       "Is_Active               0.000000\n",
       "Is_Lead                 0.000000\n",
       "dtype: float64"
      ]
     },
     "execution_count": 8,
     "metadata": {},
     "output_type": "execute_result"
    }
   ],
   "source": [
    "df.isna().sum()/len(df)*100"
   ]
  },
  {
   "cell_type": "markdown",
   "id": "6368f39f",
   "metadata": {},
   "source": [
    "# EDA"
   ]
  },
  {
   "cell_type": "code",
   "execution_count": 9,
   "id": "51a36c84",
   "metadata": {},
   "outputs": [
    {
     "name": "stdout",
     "output_type": "stream",
     "text": [
      "0    187437\n",
      "1     58288\n",
      "Name: Is_Lead, dtype: int64\n"
     ]
    },
    {
     "data": {
      "image/png": "[encoded data removed]",
      "text/plain": [
       "<Figure size 864x576 with 1 Axes>"
      ]
     },
     "metadata": {},
     "output_type": "display_data"
    }
   ],
   "source": [
    "plt.figure(figsize = (12,8))\n",
    "print(df['Is_Lead'].value_counts())\n",
    "colors = ['#66b3ff','#ffcc99']\n",
    "plt.pie(df['Is_Lead'].value_counts(), labels = ['0','1'], autopct='%.1f%%',colors= colors)\n",
    "plt.legend()\n",
    "plt.show()"
   ]
  },
  {
   "cell_type": "code",
   "execution_count": 10,
   "id": "d0a90cc8",
   "metadata": {},
   "outputs": [],
   "source": [
    "## Above graph shows only 23.70% of the given data is a Lead. \n",
    "##Hence ML model will have less data to learn from."
   ]
  },
  {
   "cell_type": "code",
   "execution_count": 11,
   "id": "c6463abc",
   "metadata": {},
   "outputs": [
    {
     "data": {
      "text/plain": [
       "Text(0.5, 1.0, 'Gender Wise Customer Response in the Recommended Credit Cards')"
      ]
     },
     "execution_count": 11,
     "metadata": {},
     "output_type": "execute_result"
    },
    {
     "data": {
      "image/png": "[encoded data removed]",
      "text/plain": [
       "<Figure size 720x576 with 1 Axes>"
      ]
     },
     "metadata": {
      "needs_background": "light"
     },
     "output_type": "display_data"
    }
   ],
   "source": [
    "plt.figure(figsize = (10,8))\n",
    "sns.countplot(x='Gender', hue='Is_Lead', data=df).set_title('Gender Wise Customer Response in the Recommended Credit Cards')"
   ]
  },
  {
   "cell_type": "code",
   "execution_count": 12,
   "id": "59d3104d",
   "metadata": {},
   "outputs": [],
   "source": [
    "## the above graph shows that male customers ahve responded better compared to female candidates."
   ]
  },
  {
   "cell_type": "code",
   "execution_count": 13,
   "id": "4e5975b3",
   "metadata": {
    "scrolled": true
   },
   "outputs": [
    {
     "name": "stderr",
     "output_type": "stream",
     "text": [
      "C:\\Users\\Sanyal\\anaconda3\\lib\\site-packages\\seaborn\\_decorators.py:36: FutureWarning: Pass the following variable as a keyword arg: x. From version 0.12, the only valid positional argument will be `data`, and passing other arguments without an explicit keyword will result in an error or misinterpretation.\n",
      "  warnings.warn(\n"
     ]
    },
    {
     "data": {
      "text/plain": [
       "Text(0.5, 1.0, 'Occupation Wise Customer Response in the Recommended Credit Cards')"
      ]
     },
     "execution_count": 13,
     "metadata": {},
     "output_type": "execute_result"
    },
    {
     "data": {
      "image/png": "[encoded data removed]",
      "text/plain": [
       "<Figure size 720x576 with 1 Axes>"
      ]
     },
     "metadata": {
      "needs_background": "light"
     },
     "output_type": "display_data"
    }
   ],
   "source": [
    "plt.figure(figsize = (10,8))\n",
    "sns.countplot('Occupation', hue = 'Is_Lead', data =df).set_title('Occupation Wise Customer Response in the Recommended Credit Cards')"
   ]
  },
  {
   "cell_type": "code",
   "execution_count": 14,
   "id": "528c2cfd",
   "metadata": {},
   "outputs": [],
   "source": [
    "## From the above graph we can conclude following points :\n",
    "## 1. Self employed customers are more likely to buy credit card.\n",
    "## 2. Entrepreneurs are the most likely customers for credit card,\n",
    "##        as they have reponded multiple times for credit card services."
   ]
  },
  {
   "cell_type": "code",
   "execution_count": 15,
   "id": "27561753",
   "metadata": {
    "scrolled": true
   },
   "outputs": [
    {
     "name": "stderr",
     "output_type": "stream",
     "text": [
      "C:\\Users\\Sanyal\\anaconda3\\lib\\site-packages\\seaborn\\_decorators.py:36: FutureWarning: Pass the following variable as a keyword arg: x. From version 0.12, the only valid positional argument will be `data`, and passing other arguments without an explicit keyword will result in an error or misinterpretation.\n",
      "  warnings.warn(\n"
     ]
    },
    {
     "data": {
      "text/plain": [
       "Text(0.5, 1.0, 'Channel Code Wise Customer Response in the Recommended Credit Cards')"
      ]
     },
     "execution_count": 15,
     "metadata": {},
     "output_type": "execute_result"
    },
    {
     "data": {
      "image/png": "[encoded data removed]",
      "text/plain": [
       "<Figure size 864x576 with 1 Axes>"
      ]
     },
     "metadata": {
      "needs_background": "light"
     },
     "output_type": "display_data"
    }
   ],
   "source": [
    "plt.figure(figsize = (12,8))\n",
    "sns.countplot('Channel_Code', hue = 'Is_Lead', data = df).set_title('Channel Code Wise Customer Response in the Recommended Credit Cards')"
   ]
  },
  {
   "cell_type": "code",
   "execution_count": 16,
   "id": "c453c6f6",
   "metadata": {},
   "outputs": [],
   "source": [
    "## Channel X2 have the best lead generation ratio compared to others.\n",
    "## Cahnnel X1 performance is poor."
   ]
  },
  {
   "cell_type": "code",
   "execution_count": 17,
   "id": "3f9d2d22",
   "metadata": {},
   "outputs": [
    {
     "data": {
      "text/plain": [
       "<AxesSubplot:xlabel='Credit_Product', ylabel='count'>"
      ]
     },
     "execution_count": 17,
     "metadata": {},
     "output_type": "execute_result"
    },
    {
     "data": {
      "image/png": "[encoded data removed]",
      "text/plain": [
       "<Figure size 720x432 with 1 Axes>"
      ]
     },
     "metadata": {
      "needs_background": "light"
     },
     "output_type": "display_data"
    }
   ],
   "source": [
    "plt.figure(figsize = (10,6))\n",
    "sns.countplot(data=df.fillna('Missing'), x='Credit_Product', hue='Is_Lead', palette='summer')"
   ]
  },
  {
   "cell_type": "code",
   "execution_count": 18,
   "id": "e0b0789f",
   "metadata": {},
   "outputs": [],
   "source": [
    "## It is very intresting to observe that the missing values do actually have more leads. \n",
    "## Thus we should fill the missing values."
   ]
  },
  {
   "cell_type": "code",
   "execution_count": 19,
   "id": "f3759a22",
   "metadata": {},
   "outputs": [
    {
     "name": "stderr",
     "output_type": "stream",
     "text": [
      "C:\\Users\\Sanyal\\anaconda3\\lib\\site-packages\\seaborn\\distributions.py:2557: FutureWarning: `distplot` is a deprecated function and will be removed in a future version. Please adapt your code to use either `displot` (a figure-level function with similar flexibility) or `histplot` (an axes-level function for histograms).\n",
      "  warnings.warn(msg, FutureWarning)\n"
     ]
    },
    {
     "data": {
      "image/png": "[encoded data removed]",
      "text/plain": [
       "<Figure size 864x432 with 1 Axes>"
      ]
     },
     "metadata": {
      "needs_background": "light"
     },
     "output_type": "display_data"
    }
   ],
   "source": [
    "# Age: Age of the Customer (in Years)\n",
    "\n",
    "plt.figure(figsize=(12, 6))\n",
    "ax = sns.distplot(df.Age)\n",
    "ax.set_title('Distribution of Age')\n",
    "plt.show()"
   ]
  },
  {
   "cell_type": "code",
   "execution_count": 20,
   "id": "5d6da54b",
   "metadata": {},
   "outputs": [
    {
     "data": {
      "text/html": [
       "<div>\n",
       "<style scoped>\n",
       "    .dataframe tbody tr th:only-of-type {\n",
       "        vertical-align: middle;\n",
       "    }\n",
       "\n",
       "    .dataframe tbody tr th {\n",
       "        vertical-align: top;\n",
       "    }\n",
       "\n",
       "    .dataframe thead th {\n",
       "        text-align: right;\n",
       "    }\n",
       "</style>\n",
       "<table border=\"1\" class=\"dataframe\">\n",
       "  <thead>\n",
       "    <tr style=\"text-align: right;\">\n",
       "      <th></th>\n",
       "      <th>Age</th>\n",
       "      <th>Vintage</th>\n",
       "      <th>Avg_Account_Balance</th>\n",
       "      <th>Is_Lead</th>\n",
       "    </tr>\n",
       "  </thead>\n",
       "  <tbody>\n",
       "    <tr>\n",
       "      <th>Age</th>\n",
       "      <td>1.000000</td>\n",
       "      <td>0.631242</td>\n",
       "      <td>0.145232</td>\n",
       "      <td>0.230814</td>\n",
       "    </tr>\n",
       "    <tr>\n",
       "      <th>Vintage</th>\n",
       "      <td>0.631242</td>\n",
       "      <td>1.000000</td>\n",
       "      <td>0.167433</td>\n",
       "      <td>0.279642</td>\n",
       "    </tr>\n",
       "    <tr>\n",
       "      <th>Avg_Account_Balance</th>\n",
       "      <td>0.145232</td>\n",
       "      <td>0.167433</td>\n",
       "      <td>1.000000</td>\n",
       "      <td>0.053370</td>\n",
       "    </tr>\n",
       "    <tr>\n",
       "      <th>Is_Lead</th>\n",
       "      <td>0.230814</td>\n",
       "      <td>0.279642</td>\n",
       "      <td>0.053370</td>\n",
       "      <td>1.000000</td>\n",
       "    </tr>\n",
       "  </tbody>\n",
       "</table>\n",
       "</div>"
      ],
      "text/plain": [
       "                          Age   Vintage  Avg_Account_Balance   Is_Lead\n",
       "Age                  1.000000  0.631242             0.145232  0.230814\n",
       "Vintage              0.631242  1.000000             0.167433  0.279642\n",
       "Avg_Account_Balance  0.145232  0.167433             1.000000  0.053370\n",
       "Is_Lead              0.230814  0.279642             0.053370  1.000000"
      ]
     },
     "execution_count": 20,
     "metadata": {},
     "output_type": "execute_result"
    }
   ],
   "source": [
    "df.corr().transpose()"
   ]
  },
  {
   "cell_type": "code",
   "execution_count": 21,
   "id": "6199f124",
   "metadata": {},
   "outputs": [
    {
     "data": {
      "image/png": "[encoded data removed]",
      "text/plain": [
       "<Figure size 720x720 with 2 Axes>"
      ]
     },
     "metadata": {
      "needs_background": "light"
     },
     "output_type": "display_data"
    }
   ],
   "source": [
    "plt.figure(figsize= (10,10))\n",
    "svm = sns.heatmap(df.corr(), annot= True, cmap= 'coolwarm')\n",
    "#hm = sns.get_figure()\n",
    "svm.figure.savefig('svm_conf.png', dpi=400)"
   ]
  },
  {
   "cell_type": "markdown",
   "id": "9daf6adc",
   "metadata": {},
   "source": [
    "# Pre-Processing"
   ]
  },
  {
   "cell_type": "markdown",
   "id": "c0d3afab",
   "metadata": {},
   "source": [
    "##  encoding the string"
   ]
  },
  {
   "cell_type": "code",
   "execution_count": 22,
   "id": "b566966c",
   "metadata": {},
   "outputs": [],
   "source": [
    "df['Credit_Product'] = df['Credit_Product'].fillna('Not Sure')"
   ]
  },
  {
   "cell_type": "code",
   "execution_count": 23,
   "id": "0765d986",
   "metadata": {},
   "outputs": [
    {
     "name": "stdout",
     "output_type": "stream",
     "text": [
      "<class 'pandas.core.frame.DataFrame'>\n",
      "RangeIndex: 245725 entries, 0 to 245724\n",
      "Data columns (total 11 columns):\n",
      " #   Column               Non-Null Count   Dtype \n",
      "---  ------               --------------   ----- \n",
      " 0   ID                   245725 non-null  object\n",
      " 1   Gender               245725 non-null  object\n",
      " 2   Age                  245725 non-null  int64 \n",
      " 3   Region_Code          245725 non-null  object\n",
      " 4   Occupation           245725 non-null  object\n",
      " 5   Channel_Code         245725 non-null  object\n",
      " 6   Vintage              245725 non-null  int64 \n",
      " 7   Credit_Product       245725 non-null  object\n",
      " 8   Avg_Account_Balance  245725 non-null  int64 \n",
      " 9   Is_Active            245725 non-null  object\n",
      " 10  Is_Lead              245725 non-null  int64 \n",
      "dtypes: int64(4), object(7)\n",
      "memory usage: 20.6+ MB\n"
     ]
    }
   ],
   "source": [
    "df.info()"
   ]
  },
  {
   "cell_type": "code",
   "execution_count": 24,
   "id": "1133359a",
   "metadata": {},
   "outputs": [
    {
     "data": {
      "text/plain": [
       "array(['No', 'Not Sure', 'Yes'], dtype=object)"
      ]
     },
     "execution_count": 24,
     "metadata": {},
     "output_type": "execute_result"
    }
   ],
   "source": [
    "df['Credit_Product'].unique()"
   ]
  },
  {
   "cell_type": "code",
   "execution_count": 25,
   "id": "bbcfa32d",
   "metadata": {},
   "outputs": [],
   "source": [
    "df['Gender'] = df['Gender'].astype(\"category\")\n",
    "Gender_cats = df[\"Gender\"].cat.categories\n",
    "df[\"Gender\"] = df[\"Gender\"].cat.codes"
   ]
  },
  {
   "cell_type": "code",
   "execution_count": 26,
   "id": "a91bcb28",
   "metadata": {},
   "outputs": [],
   "source": [
    "df['Region_Code'] = df['Region_Code'].astype(\"category\")\n",
    "Region_Code_cats = df[\"Region_Code\"].cat.categories\n",
    "df[\"Region_Code\"] = df[\"Region_Code\"].cat.codes"
   ]
  },
  {
   "cell_type": "code",
   "execution_count": 27,
   "id": "14905de4",
   "metadata": {},
   "outputs": [],
   "source": [
    "df['Occupation'] = df['Occupation'].astype(\"category\")\n",
    "Occupation_cats = df[\"Occupation\"].cat.categories\n",
    "df[\"Occupation\"] = df[\"Occupation\"].cat.codes"
   ]
  },
  {
   "cell_type": "code",
   "execution_count": 28,
   "id": "f6f14d17",
   "metadata": {},
   "outputs": [],
   "source": [
    "df['Channel_Code'] = df['Channel_Code'].astype(\"category\")\n",
    "Channel_Code_cats = df[\"Channel_Code\"].cat.categories\n",
    "df[\"Channel_Code\"] = df[\"Channel_Code\"].cat.codes"
   ]
  },
  {
   "cell_type": "code",
   "execution_count": 29,
   "id": "d68d0282",
   "metadata": {},
   "outputs": [],
   "source": [
    "df['Is_Active'] = df['Is_Active'].astype(\"category\")\n",
    "Is_Active_Product_cats = df[\"Is_Active\"].cat.categories\n",
    "df[\"Is_Active\"] = df[\"Is_Active\"].cat.codes"
   ]
  },
  {
   "cell_type": "code",
   "execution_count": 30,
   "id": "6daa31bc",
   "metadata": {},
   "outputs": [],
   "source": [
    "df['Credit_Product'] = df['Credit_Product'].astype(\"category\")\n",
    "Credit_product_cats = df[\"Credit_Product\"].cat.categories\n",
    "df[\"Credit_Product\"] = df[\"Credit_Product\"].cat.codes"
   ]
  },
  {
   "cell_type": "code",
   "execution_count": 31,
   "id": "b13af981",
   "metadata": {},
   "outputs": [
    {
     "name": "stdout",
     "output_type": "stream",
     "text": [
      "<class 'pandas.core.frame.DataFrame'>\n",
      "RangeIndex: 245725 entries, 0 to 245724\n",
      "Data columns (total 11 columns):\n",
      " #   Column               Non-Null Count   Dtype \n",
      "---  ------               --------------   ----- \n",
      " 0   ID                   245725 non-null  object\n",
      " 1   Gender               245725 non-null  int8  \n",
      " 2   Age                  245725 non-null  int64 \n",
      " 3   Region_Code          245725 non-null  int8  \n",
      " 4   Occupation           245725 non-null  int8  \n",
      " 5   Channel_Code         245725 non-null  int8  \n",
      " 6   Vintage              245725 non-null  int64 \n",
      " 7   Credit_Product       245725 non-null  int8  \n",
      " 8   Avg_Account_Balance  245725 non-null  int64 \n",
      " 9   Is_Active            245725 non-null  int8  \n",
      " 10  Is_Lead              245725 non-null  int64 \n",
      "dtypes: int64(4), int8(6), object(1)\n",
      "memory usage: 10.8+ MB\n"
     ]
    }
   ],
   "source": [
    "df.info()"
   ]
  },
  {
   "cell_type": "markdown",
   "id": "b82b42f6",
   "metadata": {},
   "source": [
    "# splitting the data"
   ]
  },
  {
   "cell_type": "code",
   "execution_count": 32,
   "id": "00b5f8ab",
   "metadata": {},
   "outputs": [],
   "source": [
    "X,y = df.drop(['ID','Is_Lead'], axis=1), df['Is_Lead']"
   ]
  },
  {
   "cell_type": "code",
   "execution_count": 33,
   "id": "0fe37cc1",
   "metadata": {},
   "outputs": [],
   "source": [
    "from sklearn.model_selection import train_test_split"
   ]
  },
  {
   "cell_type": "code",
   "execution_count": 34,
   "id": "c61d0d21",
   "metadata": {},
   "outputs": [],
   "source": [
    "X_train, X_test, y_train, y_test = train_test_split(X, y, train_size=0.75, random_state=0)"
   ]
  },
  {
   "cell_type": "code",
   "execution_count": 35,
   "id": "e24594af",
   "metadata": {},
   "outputs": [
    {
     "name": "stdout",
     "output_type": "stream",
     "text": [
      "(245725, 9) (245725,)\n"
     ]
    }
   ],
   "source": [
    "print(X.shape, y.shape)"
   ]
  },
  {
   "cell_type": "code",
   "execution_count": 36,
   "id": "8aeb9729",
   "metadata": {},
   "outputs": [
    {
     "name": "stdout",
     "output_type": "stream",
     "text": [
      "(184293, 9) (184293,)\n"
     ]
    }
   ],
   "source": [
    "print(X_train.shape,y_train.shape)"
   ]
  },
  {
   "cell_type": "code",
   "execution_count": 37,
   "id": "26d02a18",
   "metadata": {},
   "outputs": [
    {
     "name": "stdout",
     "output_type": "stream",
     "text": [
      "(61432, 9) (61432,)\n"
     ]
    }
   ],
   "source": [
    "print(X_test.shape,y_test.shape)"
   ]
  },
  {
   "cell_type": "code",
   "execution_count": 38,
   "id": "a52153ed",
   "metadata": {},
   "outputs": [
    {
     "data": {
      "text/html": [
       "<div>\n",
       "<style scoped>\n",
       "    .dataframe tbody tr th:only-of-type {\n",
       "        vertical-align: middle;\n",
       "    }\n",
       "\n",
       "    .dataframe tbody tr th {\n",
       "        vertical-align: top;\n",
       "    }\n",
       "\n",
       "    .dataframe thead th {\n",
       "        text-align: right;\n",
       "    }\n",
       "</style>\n",
       "<table border=\"1\" class=\"dataframe\">\n",
       "  <thead>\n",
       "    <tr style=\"text-align: right;\">\n",
       "      <th></th>\n",
       "      <th>Gender</th>\n",
       "      <th>Age</th>\n",
       "      <th>Region_Code</th>\n",
       "      <th>Occupation</th>\n",
       "      <th>Channel_Code</th>\n",
       "      <th>Vintage</th>\n",
       "      <th>Credit_Product</th>\n",
       "      <th>Avg_Account_Balance</th>\n",
       "      <th>Is_Active</th>\n",
       "    </tr>\n",
       "  </thead>\n",
       "  <tbody>\n",
       "    <tr>\n",
       "      <th>87863</th>\n",
       "      <td>0</td>\n",
       "      <td>26</td>\n",
       "      <td>27</td>\n",
       "      <td>2</td>\n",
       "      <td>0</td>\n",
       "      <td>19</td>\n",
       "      <td>0</td>\n",
       "      <td>2249804</td>\n",
       "      <td>1</td>\n",
       "    </tr>\n",
       "    <tr>\n",
       "      <th>3228</th>\n",
       "      <td>1</td>\n",
       "      <td>33</td>\n",
       "      <td>20</td>\n",
       "      <td>2</td>\n",
       "      <td>0</td>\n",
       "      <td>25</td>\n",
       "      <td>0</td>\n",
       "      <td>988585</td>\n",
       "      <td>0</td>\n",
       "    </tr>\n",
       "    <tr>\n",
       "      <th>80609</th>\n",
       "      <td>0</td>\n",
       "      <td>28</td>\n",
       "      <td>18</td>\n",
       "      <td>2</td>\n",
       "      <td>0</td>\n",
       "      <td>19</td>\n",
       "      <td>0</td>\n",
       "      <td>813682</td>\n",
       "      <td>1</td>\n",
       "    </tr>\n",
       "    <tr>\n",
       "      <th>6659</th>\n",
       "      <td>1</td>\n",
       "      <td>29</td>\n",
       "      <td>4</td>\n",
       "      <td>2</td>\n",
       "      <td>0</td>\n",
       "      <td>31</td>\n",
       "      <td>0</td>\n",
       "      <td>3869826</td>\n",
       "      <td>1</td>\n",
       "    </tr>\n",
       "    <tr>\n",
       "      <th>68646</th>\n",
       "      <td>1</td>\n",
       "      <td>60</td>\n",
       "      <td>33</td>\n",
       "      <td>3</td>\n",
       "      <td>2</td>\n",
       "      <td>110</td>\n",
       "      <td>2</td>\n",
       "      <td>2092372</td>\n",
       "      <td>1</td>\n",
       "    </tr>\n",
       "    <tr>\n",
       "      <th>...</th>\n",
       "      <td>...</td>\n",
       "      <td>...</td>\n",
       "      <td>...</td>\n",
       "      <td>...</td>\n",
       "      <td>...</td>\n",
       "      <td>...</td>\n",
       "      <td>...</td>\n",
       "      <td>...</td>\n",
       "      <td>...</td>\n",
       "    </tr>\n",
       "    <tr>\n",
       "      <th>209627</th>\n",
       "      <td>0</td>\n",
       "      <td>47</td>\n",
       "      <td>4</td>\n",
       "      <td>1</td>\n",
       "      <td>1</td>\n",
       "      <td>61</td>\n",
       "      <td>1</td>\n",
       "      <td>672510</td>\n",
       "      <td>1</td>\n",
       "    </tr>\n",
       "    <tr>\n",
       "      <th>22431</th>\n",
       "      <td>1</td>\n",
       "      <td>56</td>\n",
       "      <td>25</td>\n",
       "      <td>3</td>\n",
       "      <td>2</td>\n",
       "      <td>99</td>\n",
       "      <td>0</td>\n",
       "      <td>352413</td>\n",
       "      <td>1</td>\n",
       "    </tr>\n",
       "    <tr>\n",
       "      <th>42991</th>\n",
       "      <td>0</td>\n",
       "      <td>30</td>\n",
       "      <td>28</td>\n",
       "      <td>3</td>\n",
       "      <td>0</td>\n",
       "      <td>33</td>\n",
       "      <td>0</td>\n",
       "      <td>1210738</td>\n",
       "      <td>0</td>\n",
       "    </tr>\n",
       "    <tr>\n",
       "      <th>166003</th>\n",
       "      <td>0</td>\n",
       "      <td>28</td>\n",
       "      <td>27</td>\n",
       "      <td>2</td>\n",
       "      <td>0</td>\n",
       "      <td>19</td>\n",
       "      <td>2</td>\n",
       "      <td>717064</td>\n",
       "      <td>0</td>\n",
       "    </tr>\n",
       "    <tr>\n",
       "      <th>175754</th>\n",
       "      <td>0</td>\n",
       "      <td>27</td>\n",
       "      <td>20</td>\n",
       "      <td>2</td>\n",
       "      <td>0</td>\n",
       "      <td>21</td>\n",
       "      <td>0</td>\n",
       "      <td>295168</td>\n",
       "      <td>0</td>\n",
       "    </tr>\n",
       "  </tbody>\n",
       "</table>\n",
       "<p>61432 rows × 9 columns</p>\n",
       "</div>"
      ],
      "text/plain": [
       "        Gender  Age  Region_Code  Occupation  Channel_Code  Vintage  \\\n",
       "87863        0   26           27           2             0       19   \n",
       "3228         1   33           20           2             0       25   \n",
       "80609        0   28           18           2             0       19   \n",
       "6659         1   29            4           2             0       31   \n",
       "68646        1   60           33           3             2      110   \n",
       "...        ...  ...          ...         ...           ...      ...   \n",
       "209627       0   47            4           1             1       61   \n",
       "22431        1   56           25           3             2       99   \n",
       "42991        0   30           28           3             0       33   \n",
       "166003       0   28           27           2             0       19   \n",
       "175754       0   27           20           2             0       21   \n",
       "\n",
       "        Credit_Product  Avg_Account_Balance  Is_Active  \n",
       "87863                0              2249804          1  \n",
       "3228                 0               988585          0  \n",
       "80609                0               813682          1  \n",
       "6659                 0              3869826          1  \n",
       "68646                2              2092372          1  \n",
       "...                ...                  ...        ...  \n",
       "209627               1               672510          1  \n",
       "22431                0               352413          1  \n",
       "42991                0              1210738          0  \n",
       "166003               2               717064          0  \n",
       "175754               0               295168          0  \n",
       "\n",
       "[61432 rows x 9 columns]"
      ]
     },
     "execution_count": 38,
     "metadata": {},
     "output_type": "execute_result"
    }
   ],
   "source": [
    "X_test"
   ]
  },
  {
   "cell_type": "markdown",
   "id": "07f2a48a",
   "metadata": {},
   "source": [
    "# Feature Scaling"
   ]
  },
  {
   "cell_type": "code",
   "execution_count": 39,
   "id": "1b37c1f4",
   "metadata": {},
   "outputs": [],
   "source": [
    "from sklearn.preprocessing import StandardScaler\n",
    "sc = StandardScaler()\n",
    "X_train = sc.fit_transform(X_train)\n",
    "X_test = sc.transform(X_test)"
   ]
  },
  {
   "cell_type": "markdown",
   "id": "70777071",
   "metadata": {},
   "source": [
    "# model training"
   ]
  },
  {
   "cell_type": "code",
   "execution_count": 40,
   "id": "50100338",
   "metadata": {},
   "outputs": [
    {
     "data": {
      "text/plain": [
       "RandomForestClassifier(criterion='entropy', n_estimators=10, random_state=0)"
      ]
     },
     "execution_count": 40,
     "metadata": {},
     "output_type": "execute_result"
    }
   ],
   "source": [
    "from sklearn.ensemble import RandomForestClassifier\n",
    "classifier = RandomForestClassifier(n_estimators = 10, criterion = 'entropy', random_state = 0)\n",
    "classifier.fit(X_train, y_train)"
   ]
  },
  {
   "cell_type": "code",
   "execution_count": 41,
   "id": "10dd3433",
   "metadata": {},
   "outputs": [
    {
     "data": {
      "text/plain": [
       "0.9834556928369499"
      ]
     },
     "execution_count": 41,
     "metadata": {},
     "output_type": "execute_result"
    }
   ],
   "source": [
    "classifier.score(X_train,y_train)"
   ]
  },
  {
   "cell_type": "markdown",
   "id": "c8295991",
   "metadata": {},
   "source": [
    "# confusion matrix "
   ]
  },
  {
   "cell_type": "code",
   "execution_count": 42,
   "id": "171a4db9",
   "metadata": {},
   "outputs": [
    {
     "name": "stdout",
     "output_type": "stream",
     "text": [
      "[[44000  2853]\n",
      " [ 6575  8004]]\n"
     ]
    },
    {
     "data": {
      "text/plain": [
       "0.8465294960281287"
      ]
     },
     "execution_count": 42,
     "metadata": {},
     "output_type": "execute_result"
    }
   ],
   "source": [
    "from sklearn.metrics import confusion_matrix, accuracy_score\n",
    "y_pred = classifier.predict(X_test)\n",
    "cm = confusion_matrix(y_test, y_pred)\n",
    "print(cm)\n",
    "accuracy_score(y_test, y_pred)"
   ]
  },
  {
   "cell_type": "markdown",
   "id": "8f585236",
   "metadata": {},
   "source": [
    "# Loading the test data"
   ]
  },
  {
   "cell_type": "code",
   "execution_count": 43,
   "id": "ead8bfe2",
   "metadata": {},
   "outputs": [],
   "source": [
    "file_path = 'C:/Users/Sanyal/Desktop/test.csv'"
   ]
  },
  {
   "cell_type": "code",
   "execution_count": 44,
   "id": "f59158b6",
   "metadata": {},
   "outputs": [],
   "source": [
    "test = pd.read_csv(file_path)"
   ]
  },
  {
   "cell_type": "code",
   "execution_count": 45,
   "id": "2b145fa9",
   "metadata": {},
   "outputs": [
    {
     "data": {
      "text/html": [
       "<div>\n",
       "<style scoped>\n",
       "    .dataframe tbody tr th:only-of-type {\n",
       "        vertical-align: middle;\n",
       "    }\n",
       "\n",
       "    .dataframe tbody tr th {\n",
       "        vertical-align: top;\n",
       "    }\n",
       "\n",
       "    .dataframe thead th {\n",
       "        text-align: right;\n",
       "    }\n",
       "</style>\n",
       "<table border=\"1\" class=\"dataframe\">\n",
       "  <thead>\n",
       "    <tr style=\"text-align: right;\">\n",
       "      <th></th>\n",
       "      <th>ID</th>\n",
       "      <th>Gender</th>\n",
       "      <th>Age</th>\n",
       "      <th>Region_Code</th>\n",
       "      <th>Occupation</th>\n",
       "      <th>Channel_Code</th>\n",
       "      <th>Vintage</th>\n",
       "      <th>Credit_Product</th>\n",
       "      <th>Avg_Account_Balance</th>\n",
       "      <th>Is_Active</th>\n",
       "    </tr>\n",
       "  </thead>\n",
       "  <tbody>\n",
       "    <tr>\n",
       "      <th>0</th>\n",
       "      <td>VBENBARO</td>\n",
       "      <td>Male</td>\n",
       "      <td>29</td>\n",
       "      <td>RG254</td>\n",
       "      <td>Other</td>\n",
       "      <td>X1</td>\n",
       "      <td>25</td>\n",
       "      <td>Yes</td>\n",
       "      <td>742366</td>\n",
       "      <td>No</td>\n",
       "    </tr>\n",
       "    <tr>\n",
       "      <th>1</th>\n",
       "      <td>CCMEWNKY</td>\n",
       "      <td>Male</td>\n",
       "      <td>43</td>\n",
       "      <td>RG268</td>\n",
       "      <td>Other</td>\n",
       "      <td>X2</td>\n",
       "      <td>49</td>\n",
       "      <td>NaN</td>\n",
       "      <td>925537</td>\n",
       "      <td>No</td>\n",
       "    </tr>\n",
       "    <tr>\n",
       "      <th>2</th>\n",
       "      <td>VK3KGA9M</td>\n",
       "      <td>Male</td>\n",
       "      <td>31</td>\n",
       "      <td>RG270</td>\n",
       "      <td>Salaried</td>\n",
       "      <td>X1</td>\n",
       "      <td>14</td>\n",
       "      <td>No</td>\n",
       "      <td>215949</td>\n",
       "      <td>No</td>\n",
       "    </tr>\n",
       "    <tr>\n",
       "      <th>3</th>\n",
       "      <td>TT8RPZVC</td>\n",
       "      <td>Male</td>\n",
       "      <td>29</td>\n",
       "      <td>RG272</td>\n",
       "      <td>Other</td>\n",
       "      <td>X1</td>\n",
       "      <td>33</td>\n",
       "      <td>No</td>\n",
       "      <td>868070</td>\n",
       "      <td>No</td>\n",
       "    </tr>\n",
       "    <tr>\n",
       "      <th>4</th>\n",
       "      <td>SHQZEYTZ</td>\n",
       "      <td>Female</td>\n",
       "      <td>29</td>\n",
       "      <td>RG270</td>\n",
       "      <td>Other</td>\n",
       "      <td>X1</td>\n",
       "      <td>19</td>\n",
       "      <td>No</td>\n",
       "      <td>657087</td>\n",
       "      <td>No</td>\n",
       "    </tr>\n",
       "    <tr>\n",
       "      <th>5</th>\n",
       "      <td>MZZAQMPT</td>\n",
       "      <td>Male</td>\n",
       "      <td>60</td>\n",
       "      <td>RG268</td>\n",
       "      <td>Self_Employed</td>\n",
       "      <td>X3</td>\n",
       "      <td>110</td>\n",
       "      <td>No</td>\n",
       "      <td>4624262</td>\n",
       "      <td>No</td>\n",
       "    </tr>\n",
       "    <tr>\n",
       "      <th>6</th>\n",
       "      <td>Y88TW36I</td>\n",
       "      <td>Female</td>\n",
       "      <td>69</td>\n",
       "      <td>RG253</td>\n",
       "      <td>Other</td>\n",
       "      <td>X2</td>\n",
       "      <td>67</td>\n",
       "      <td>No</td>\n",
       "      <td>1032764</td>\n",
       "      <td>No</td>\n",
       "    </tr>\n",
       "    <tr>\n",
       "      <th>7</th>\n",
       "      <td>3UGOAQNU</td>\n",
       "      <td>Female</td>\n",
       "      <td>30</td>\n",
       "      <td>RG257</td>\n",
       "      <td>Salaried</td>\n",
       "      <td>X1</td>\n",
       "      <td>33</td>\n",
       "      <td>No</td>\n",
       "      <td>837009</td>\n",
       "      <td>No</td>\n",
       "    </tr>\n",
       "    <tr>\n",
       "      <th>8</th>\n",
       "      <td>VVUKMUJT</td>\n",
       "      <td>Male</td>\n",
       "      <td>43</td>\n",
       "      <td>RG284</td>\n",
       "      <td>Salaried</td>\n",
       "      <td>X3</td>\n",
       "      <td>81</td>\n",
       "      <td>NaN</td>\n",
       "      <td>1001232</td>\n",
       "      <td>Yes</td>\n",
       "    </tr>\n",
       "    <tr>\n",
       "      <th>9</th>\n",
       "      <td>9R363ZXS</td>\n",
       "      <td>Female</td>\n",
       "      <td>54</td>\n",
       "      <td>RG283</td>\n",
       "      <td>Self_Employed</td>\n",
       "      <td>X2</td>\n",
       "      <td>37</td>\n",
       "      <td>Yes</td>\n",
       "      <td>1667851</td>\n",
       "      <td>No</td>\n",
       "    </tr>\n",
       "  </tbody>\n",
       "</table>\n",
       "</div>"
      ],
      "text/plain": [
       "         ID  Gender  Age Region_Code     Occupation Channel_Code  Vintage  \\\n",
       "0  VBENBARO    Male   29       RG254          Other           X1       25   \n",
       "1  CCMEWNKY    Male   43       RG268          Other           X2       49   \n",
       "2  VK3KGA9M    Male   31       RG270       Salaried           X1       14   \n",
       "3  TT8RPZVC    Male   29       RG272          Other           X1       33   \n",
       "4  SHQZEYTZ  Female   29       RG270          Other           X1       19   \n",
       "5  MZZAQMPT    Male   60       RG268  Self_Employed           X3      110   \n",
       "6  Y88TW36I  Female   69       RG253          Other           X2       67   \n",
       "7  3UGOAQNU  Female   30       RG257       Salaried           X1       33   \n",
       "8  VVUKMUJT    Male   43       RG284       Salaried           X3       81   \n",
       "9  9R363ZXS  Female   54       RG283  Self_Employed           X2       37   \n",
       "\n",
       "  Credit_Product  Avg_Account_Balance Is_Active  \n",
       "0            Yes               742366        No  \n",
       "1            NaN               925537        No  \n",
       "2             No               215949        No  \n",
       "3             No               868070        No  \n",
       "4             No               657087        No  \n",
       "5             No              4624262        No  \n",
       "6             No              1032764        No  \n",
       "7             No               837009        No  \n",
       "8            NaN              1001232       Yes  \n",
       "9            Yes              1667851        No  "
      ]
     },
     "execution_count": 45,
     "metadata": {},
     "output_type": "execute_result"
    }
   ],
   "source": [
    "test.head(10)"
   ]
  },
  {
   "cell_type": "markdown",
   "id": "d44995ef",
   "metadata": {},
   "source": [
    "# pre processing the test data"
   ]
  },
  {
   "cell_type": "code",
   "execution_count": 46,
   "id": "d231dc51",
   "metadata": {},
   "outputs": [
    {
     "name": "stdout",
     "output_type": "stream",
     "text": [
      "<class 'pandas.core.frame.DataFrame'>\n",
      "RangeIndex: 105312 entries, 0 to 105311\n",
      "Data columns (total 10 columns):\n",
      " #   Column               Non-Null Count   Dtype \n",
      "---  ------               --------------   ----- \n",
      " 0   ID                   105312 non-null  object\n",
      " 1   Gender               105312 non-null  object\n",
      " 2   Age                  105312 non-null  int64 \n",
      " 3   Region_Code          105312 non-null  object\n",
      " 4   Occupation           105312 non-null  object\n",
      " 5   Channel_Code         105312 non-null  object\n",
      " 6   Vintage              105312 non-null  int64 \n",
      " 7   Credit_Product       92790 non-null   object\n",
      " 8   Avg_Account_Balance  105312 non-null  int64 \n",
      " 9   Is_Active            105312 non-null  object\n",
      "dtypes: int64(3), object(7)\n",
      "memory usage: 8.0+ MB\n"
     ]
    }
   ],
   "source": [
    "test.info()"
   ]
  },
  {
   "cell_type": "code",
   "execution_count": 34,
   "id": "359309ac",
   "metadata": {},
   "outputs": [
    {
     "data": {
      "text/plain": [
       "ID                     0.000000\n",
       "Gender                 0.000000\n",
       "Age                    0.000000\n",
       "Region_Code            0.000000\n",
       "Occupation             0.000000\n",
       "Channel_Code           0.000000\n",
       "Vintage                0.000000\n",
       "Credit_Product         5.095941\n",
       "Avg_Account_Balance    0.000000\n",
       "Is_Active              0.000000\n",
       "dtype: float64"
      ]
     },
     "execution_count": 34,
     "metadata": {},
     "output_type": "execute_result"
    }
   ],
   "source": [
    "test.isna().sum()/len(df)*100"
   ]
  },
  {
   "cell_type": "code",
   "execution_count": 47,
   "id": "7e043457",
   "metadata": {},
   "outputs": [],
   "source": [
    "test['Credit_Product'] = test['Credit_Product'].fillna('Not Sure')"
   ]
  },
  {
   "cell_type": "code",
   "execution_count": 48,
   "id": "4690cda2",
   "metadata": {},
   "outputs": [
    {
     "data": {
      "text/plain": [
       "ID                     0.0\n",
       "Gender                 0.0\n",
       "Age                    0.0\n",
       "Region_Code            0.0\n",
       "Occupation             0.0\n",
       "Channel_Code           0.0\n",
       "Vintage                0.0\n",
       "Credit_Product         0.0\n",
       "Avg_Account_Balance    0.0\n",
       "Is_Active              0.0\n",
       "dtype: float64"
      ]
     },
     "execution_count": 48,
     "metadata": {},
     "output_type": "execute_result"
    }
   ],
   "source": [
    "test.isna().sum()/len(df)*100"
   ]
  },
  {
   "cell_type": "markdown",
   "id": "3be1c59a",
   "metadata": {},
   "source": [
    "# encoding the string values on test data set"
   ]
  },
  {
   "cell_type": "code",
   "execution_count": 49,
   "id": "d690ae7e",
   "metadata": {},
   "outputs": [],
   "source": [
    "col = ['Gender','Region_Code','Occupation','Channel_Code','Credit_Product','Is_Active']\n",
    "\n",
    "test['Gender'] = test['Gender'].astype(\"category\")\n",
    "Gender_cats = test[\"Gender\"].cat.categories\n",
    "test[\"Gender\"] = test[\"Gender\"].cat.codes"
   ]
  },
  {
   "cell_type": "code",
   "execution_count": 50,
   "id": "9e6fc0ce",
   "metadata": {},
   "outputs": [],
   "source": [
    "test['Region_Code'] = test['Region_Code'].astype(\"category\")\n",
    "Region_Code_cats = test[\"Region_Code\"].cat.categories\n",
    "test[\"Region_Code\"] = test[\"Region_Code\"].cat.codes"
   ]
  },
  {
   "cell_type": "code",
   "execution_count": 51,
   "id": "9a4b73fc",
   "metadata": {},
   "outputs": [],
   "source": [
    "test['Occupation'] = test['Occupation'].astype(\"category\")\n",
    "Occupation_cats = test[\"Occupation\"].cat.categories\n",
    "test[\"Occupation\"] = test[\"Occupation\"].cat.codes"
   ]
  },
  {
   "cell_type": "code",
   "execution_count": 52,
   "id": "e00dce6f",
   "metadata": {},
   "outputs": [],
   "source": [
    "test['Channel_Code'] = test['Channel_Code'].astype(\"category\")\n",
    "Channel_Code_cats = test[\"Channel_Code\"].cat.categories\n",
    "test[\"Channel_Code\"] = test[\"Channel_Code\"].cat.codes"
   ]
  },
  {
   "cell_type": "code",
   "execution_count": 53,
   "id": "4aa015b4",
   "metadata": {},
   "outputs": [],
   "source": [
    "test['Is_Active'] = test['Is_Active'].astype(\"category\")\n",
    "Is_Active_Product_cats = test[\"Is_Active\"].cat.categories\n",
    "test[\"Is_Active\"] = test[\"Is_Active\"].cat.codes"
   ]
  },
  {
   "cell_type": "code",
   "execution_count": 54,
   "id": "379a6bb6",
   "metadata": {},
   "outputs": [],
   "source": [
    "test['Credit_Product'] = test['Credit_Product'].astype(\"category\")\n",
    "Credit_product_cats = test[\"Credit_Product\"].cat.categories\n",
    "test[\"Credit_Product\"] = test[\"Credit_Product\"].cat.codes"
   ]
  },
  {
   "cell_type": "code",
   "execution_count": 55,
   "id": "7913c8b6",
   "metadata": {},
   "outputs": [
    {
     "name": "stdout",
     "output_type": "stream",
     "text": [
      "<class 'pandas.core.frame.DataFrame'>\n",
      "RangeIndex: 105312 entries, 0 to 105311\n",
      "Data columns (total 10 columns):\n",
      " #   Column               Non-Null Count   Dtype \n",
      "---  ------               --------------   ----- \n",
      " 0   ID                   105312 non-null  object\n",
      " 1   Gender               105312 non-null  int8  \n",
      " 2   Age                  105312 non-null  int64 \n",
      " 3   Region_Code          105312 non-null  int8  \n",
      " 4   Occupation           105312 non-null  int8  \n",
      " 5   Channel_Code         105312 non-null  int8  \n",
      " 6   Vintage              105312 non-null  int64 \n",
      " 7   Credit_Product       105312 non-null  int8  \n",
      " 8   Avg_Account_Balance  105312 non-null  int64 \n",
      " 9   Is_Active            105312 non-null  int8  \n",
      "dtypes: int64(3), int8(6), object(1)\n",
      "memory usage: 3.8+ MB\n"
     ]
    }
   ],
   "source": [
    "test.info()"
   ]
  },
  {
   "cell_type": "markdown",
   "id": "3bd2e9d5",
   "metadata": {},
   "source": [
    "# preparing data for model"
   ]
  },
  {
   "cell_type": "code",
   "execution_count": 56,
   "id": "240d5a68",
   "metadata": {},
   "outputs": [],
   "source": [
    "test = test.drop(['ID'], axis=1)"
   ]
  },
  {
   "cell_type": "code",
   "execution_count": 57,
   "id": "6b968926",
   "metadata": {},
   "outputs": [
    {
     "data": {
      "text/plain": [
       "(105312, 9)"
      ]
     },
     "execution_count": 57,
     "metadata": {},
     "output_type": "execute_result"
    }
   ],
   "source": [
    "test.shape"
   ]
  },
  {
   "cell_type": "code",
   "execution_count": 58,
   "id": "3f5cb602",
   "metadata": {},
   "outputs": [],
   "source": [
    "X_Test = test"
   ]
  },
  {
   "cell_type": "code",
   "execution_count": 59,
   "id": "fcad9430",
   "metadata": {},
   "outputs": [],
   "source": [
    "sct = StandardScaler()\n",
    "X_Test = sct.fit_transform(X_Test)"
   ]
  },
  {
   "cell_type": "code",
   "execution_count": 60,
   "id": "ea8f005f",
   "metadata": {},
   "outputs": [],
   "source": [
    "y_Test = classifier.predict(X_Test)"
   ]
  },
  {
   "cell_type": "code",
   "execution_count": 61,
   "id": "d8fcf24a",
   "metadata": {},
   "outputs": [
    {
     "data": {
      "text/plain": [
       "array([0, 1, 0, ..., 0, 0, 0], dtype=int64)"
      ]
     },
     "execution_count": 61,
     "metadata": {},
     "output_type": "execute_result"
    }
   ],
   "source": [
    "y_Test"
   ]
  },
  {
   "cell_type": "code",
   "execution_count": 62,
   "id": "b08ba707",
   "metadata": {},
   "outputs": [],
   "source": [
    "result = pd.DataFrame (y_Test)"
   ]
  },
  {
   "cell_type": "code",
   "execution_count": 63,
   "id": "b21bc153",
   "metadata": {},
   "outputs": [],
   "source": [
    "file_path = 'C:/Users/Sanyal/Desktop/submition.xlsx'"
   ]
  },
  {
   "cell_type": "code",
   "execution_count": 64,
   "id": "1edb0435",
   "metadata": {},
   "outputs": [],
   "source": [
    "result.to_excel(file_path,sheet_name=\"Sheet1\",index=False,index_label=None)"
   ]
  },
  {
   "cell_type": "code",
   "execution_count": null,
   "id": "ae79e108",
   "metadata": {},
   "outputs": [],
   "source": []
  }
 ],
 "metadata": {
  "kernelspec": {
   "display_name": "Python 3",
   "language": "python",
   "name": "python3"
  },
  "language_info": {
   "codemirror_mode": {
    "name": "ipython",
    "version": 3
   },
   "file_extension": ".py",
   "mimetype": "text/x-python",
   "name": "python",
   "nbconvert_exporter": "python",
   "pygments_lexer": "ipython3",
   "version": "3.8.8"
  },
  "toc": {
   "base_numbering": 1,
   "nav_menu": {},
   "number_sections": true,
   "sideBar": true,
   "skip_h1_title": false,
   "title_cell": "Table of Contents",
   "title_sidebar": "Contents",
   "toc_cell": false,
   "toc_position": {},
   "toc_section_display": true,
   "toc_window_display": false
  }
 },
 "nbformat": 4,
 "nbformat_minor": 5
}
